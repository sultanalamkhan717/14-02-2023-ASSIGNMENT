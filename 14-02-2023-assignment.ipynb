{
 "cells": [
  {
   "cell_type": "markdown",
   "id": "1d566012-f4e3-444f-a73b-5895e62d473f",
   "metadata": {},
   "source": [
    "#ANSWER-1"
   ]
  },
  {
   "cell_type": "code",
   "execution_count": null,
   "id": "10c391d3-e311-4e00-9544-9622c42b84eb",
   "metadata": {},
   "outputs": [],
   "source": [
    "Multithreading in Python refers to the ability of a program to simultaneously execute multiple threads or processes within a single programor script.\n",
    "Each thread or process represents a separate sequence of instructions that can execute concurrently with other threads or processes.\n",
    "\n",
    "Multithreading is used in Python to improve the performance and responsiveness of programs that perform tasks that can be divided into smaller, \n",
    "independent parts that can execute simultaneously. This is particularly useful in programs that involve I/O operations, \n",
    "such as reading or writing to files, network communication, or user input/output.\n",
    "\n",
    "The module used to handle threads in Python is called threading. This module provides a way to create and manage threads in Python, \n",
    "including functions for starting, stopping, and communicating between threads.\n",
    "The threading module also provides synchronization mechanisms, such as locks and semaphores, \n",
    "to ensure that threads do not interfere with each other while accessing shared resources."
   ]
  },
  {
   "cell_type": "markdown",
   "id": "ac524efd-3635-4731-b5fc-51ef9ba08f2a",
   "metadata": {},
   "source": [
    "#ANSWER-2"
   ]
  },
  {
   "cell_type": "code",
   "execution_count": null,
   "id": "1f31ee1d-7997-49da-97d6-0e1a03f289d5",
   "metadata": {},
   "outputs": [],
   "source": [
    "The threading module in Python is used to create, manage, and synchronize threads in a multi-threaded Python program. \n",
    "It provides a way to write concurrent code that can execute multiple tasks simultaneously, \n",
    "thus improving the overall performance and responsiveness of the program"
   ]
  },
  {
   "cell_type": "code",
   "execution_count": null,
   "id": "6a1488ad-eacd-4a36-b5b1-a6055bbd0d96",
   "metadata": {},
   "outputs": [],
   "source": [
    "activeCount(): This function returns the number of active threads in the current process.\n",
    "An active thread is defined as a thread that has been started and has not yet finished.\n",
    "This function can be useful for debugging and monitoring the state of a multi-threaded program."
   ]
  },
  {
   "cell_type": "code",
   "execution_count": null,
   "id": "9caa1fdf-acb3-4863-af9e-7c915e0a5d4c",
   "metadata": {},
   "outputs": [],
   "source": [
    "currentThread(): This function returns a reference to the currently executing thread.\n",
    "The returned object is an instance of the Thread class, which provides various methods and attributes for working with threads.\n",
    "This function can be useful for accessing information about the currently executing thread, such as its name or ID."
   ]
  },
  {
   "cell_type": "code",
   "execution_count": null,
   "id": "93a051f2-c112-4ac9-a329-0783d4e6fade",
   "metadata": {},
   "outputs": [],
   "source": [
    "enumerate(): This function returns a list of all active Thread objects in the current process.\n",
    "Each Thread object represents a separate thread of execution, and the list returned by this function includes\n",
    "all threads that have been started but have not yet finished. This function can be useful for monitoring the state of a multi-threaded program \n",
    "and for performing operations on all active threads, such as joining or terminating them."
   ]
  },
  {
   "cell_type": "markdown",
   "id": "2b7f11ca-5e11-4c9c-8da0-0dca9ac8759e",
   "metadata": {},
   "source": [
    "#ANSWER-3"
   ]
  },
  {
   "cell_type": "code",
   "execution_count": null,
   "id": "924c9958-03fe-453d-8af6-76907718aff9",
   "metadata": {},
   "outputs": [],
   "source": [
    "run(): This is the method that is executed when a thread starts running. You can override this method in a subclass of Thread\n",
    "to define the task that the thread will perform. When you create a new Thread object, you can pass a callable object as a target for the thread to run,\n",
    "or you can subclass Thread and override the run() method.\n",
    "\n",
    "start(): This method is used to start a new thread of execution. When you call start() on a Thread object,\n",
    "Python creates a new operating system thread and starts executing the run() method in that thread.\n",
    "You can only call start() once on a Thread object; if you try to call it again, a RuntimeError will be raised.\n",
    "\n",
    "join(): This method is used to wait for a thread to finish its execution before continuing with the main thread of the program. \n",
    "When you call join() on a Thread object, the main thread blocks until the thread being joined completes its execution.\n",
    "This method can be useful for coordinating the execution of multiple threads and ensuring that all threads have completed before the program exits.\n",
    "\n",
    "isAlive(): This method returns a boolean value indicating whether the thread is currently executing.\n",
    "If the thread has not yet started or has already completed its execution, this method will return False. \n",
    "If the thread is currently executing, this method will return True.\n",
    "This method can be useful for monitoring the state of a thread and determining whether it is safe to perform certain operations on the thread,\n",
    "such as joining it or interrupting it."
   ]
  },
  {
   "cell_type": "markdown",
   "id": "c870295e-6f14-4de1-af9a-ddceeb915b62",
   "metadata": {},
   "source": [
    "ANSWER-4"
   ]
  },
  {
   "cell_type": "code",
   "execution_count": 1,
   "id": "c125533a-aeea-42f7-bee2-f028c332b707",
   "metadata": {},
   "outputs": [
    {
     "name": "stdout",
     "output_type": "stream",
     "text": [
      "Square of 1 is 1\n",
      "Square of 2 is 4\n",
      "Square of 3 is 9\n",
      "Square of 4 is 16\n",
      "Square of 5 is 25\n",
      "Square of 6 is 36\n",
      "Square of 7 is 49\n",
      "Square of 8 is 64\n",
      "Square of 9 is 81\n",
      "Square of 10 is 100\n",
      "Cube of 1 is 1\n",
      "Cube of 2 is 8\n",
      "Cube of 3 is 27\n",
      "Cube of 4 is 64\n",
      "Cube of 5 is 125\n",
      "Cube of 6 is 216\n",
      "Cube of 7 is 343\n",
      "Cube of 8 is 512\n",
      "Cube of 9 is 729\n",
      "Cube of 10 is 1000\n"
     ]
    }
   ],
   "source": [
    "import threading\n",
    "\n",
    "# Define a function to print the list of squares\n",
    "def print_squares():\n",
    "    for i in range(1, 11):\n",
    "        print(f\"Square of {i} is {i**2}\")\n",
    "\n",
    "# Define a function to print the list of cubes\n",
    "def print_cubes():\n",
    "    for i in range(1, 11):\n",
    "        print(f\"Cube of {i} is {i**3}\")\n",
    "\n",
    "# Create two Thread objects to run the above functions\n",
    "t1 = threading.Thread(target=print_squares)\n",
    "t2 = threading.Thread(target=print_cubes)\n",
    "\n",
    "# Start both threads\n",
    "t1.start()\n",
    "t2.start()\n",
    "\n",
    "# Wait for both threads to complete\n",
    "t1.join()\n",
    "t2.join()\n"
   ]
  },
  {
   "cell_type": "markdown",
   "id": "6cca2719-fc8c-4806-8534-ed6f5ceb3c7d",
   "metadata": {},
   "source": [
    "#ANSWER-5"
   ]
  },
  {
   "cell_type": "code",
   "execution_count": null,
   "id": "4c1e5c5a-824a-4b7e-a6ba-e3c7c9fa222f",
   "metadata": {},
   "outputs": [],
   "source": [
    "Multithreading is a technique in which a program uses multiple threads of execution to perform several tasks concurrently.\n",
    "In Python, multithreading is commonly used to speed up the execution of CPU-bound tasks, \n",
    "such as performing complex computations or processing large amounts of data."
   ]
  },
  {
   "cell_type": "code",
   "execution_count": null,
   "id": "ccaf275f-83eb-4e9f-bae5-2ae99d1d3681",
   "metadata": {},
   "outputs": [],
   "source": [
    "Advantages \n",
    "\n",
    "Improved performance: By allowing multiple threads to execute simultaneously, \n",
    "multithreading can improve the performance of a Python program.\n",
    "Responsiveness: Multithreading can help to make a program more responsive \n",
    "by allowing it to perform multiple tasks at the same time.\n",
    "Simplified programming: Multithreading can simplify programming by allowing a single program to perform several tasks concurrently.\n",
    "Resource sharing: Multithreading can enable multiple threads to share resources such as memory and CPU time,\n",
    "which can reduce resource wastage."
   ]
  },
  {
   "cell_type": "code",
   "execution_count": null,
   "id": "6cbd0888-785e-4a81-ab09-acc25fa5bb7d",
   "metadata": {},
   "outputs": [],
   "source": [
    "Disadvantages \n",
    "\n",
    "Complexity: Multithreading can make a program more complex and harder to debug due to the possibility of race conditions\n",
    "and other synchronization issues.\n",
    "GIL: The Global Interpreter Lock (GIL) in Python restricts multithreading in the standard CPython implementation,\n",
    "which can limit the benefits of multithreading.\n",
    "Overhead: Multithreading can introduce overhead due to the need to manage multiple threads and coordinate their actions,\n",
    "which can reduce performance in some cases.\n",
    "Limited parallelism: Due to the GIL, multithreading in Python may not be able to take full advantage of modern multicore processors and may not achieve true parallelism.\n",
    "Overall, multithreading in Python can be an effective way to improve the performance and responsiveness of a program, \n",
    "but it also has some potential downsides that need to be taken into account when designing a multithreaded application."
   ]
  },
  {
   "cell_type": "markdown",
   "id": "13f5b715-34d2-4179-904e-a4729429caae",
   "metadata": {},
   "source": [
    "#ANSWER-6"
   ]
  },
  {
   "cell_type": "code",
   "execution_count": null,
   "id": "1f465674-757a-45d1-a095-443f9e9c8c18",
   "metadata": {},
   "outputs": [],
   "source": [
    "Deadlock:\n",
    "A deadlock is a situation where two or more threads are blocked and waiting for each other to release resources\n",
    "they need to continue execution. This can happen when each thread holds a resource that the other thread needs to proceed.\n",
    "Deadlocks can occur when there is insufficient coordination between threads or when resources are not released in a timely manner.\n",
    "Deadlocks can cause the program to hang indefinitely, and they can be difficult to debug."
   ]
  },
  {
   "cell_type": "code",
   "execution_count": null,
   "id": "8fae315a-aacf-4494-9688-6f5fd1c5f174",
   "metadata": {},
   "outputs": [],
   "source": [
    "Race condition:\n",
    "A race condition is a situation where the behavior of a program depends on the relative timing of two or more threads. \n",
    "In a race condition, the outcome of a program depends on which thread gets to execute a particular section of code first. \n",
    "Race conditions can occur when multiple threads access shared resources, such as global variables or files,\n",
    "without proper synchronization. Race conditions can cause unpredictable behavior in a program and can lead to errors,\n",
    "crashes, or data corruption."
   ]
  }
 ],
 "metadata": {
  "kernelspec": {
   "display_name": "Python 3 (ipykernel)",
   "language": "python",
   "name": "python3"
  },
  "language_info": {
   "codemirror_mode": {
    "name": "ipython",
    "version": 3
   },
   "file_extension": ".py",
   "mimetype": "text/x-python",
   "name": "python",
   "nbconvert_exporter": "python",
   "pygments_lexer": "ipython3",
   "version": "3.10.8"
  }
 },
 "nbformat": 4,
 "nbformat_minor": 5
}
